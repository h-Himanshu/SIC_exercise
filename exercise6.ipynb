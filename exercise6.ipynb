{
 "cells": [
  {
   "cell_type": "code",
   "execution_count": 5,
   "metadata": {},
   "outputs": [
    {
     "name": "stdout",
     "output_type": "stream",
     "text": [
      "Factorial of 20 is 2432902008176640000\n"
     ]
    }
   ],
   "source": [
    "#1\n",
    "def fact(n):\n",
    "    if n == 0 or n == 1:\n",
    "        return 1\n",
    "    return n * fact(n-1)\n",
    "num = 20\n",
    "print(f\"Factorial of {num} is {fact(num)}\")"
   ]
  },
  {
   "cell_type": "code",
   "execution_count": 61,
   "metadata": {},
   "outputs": [
    {
     "name": "stdout",
     "output_type": "stream",
     "text": [
      "sum of first 5 natural numbers is  15\n"
     ]
    }
   ],
   "source": [
    "#2\n",
    "def sum_to_n(n):\n",
    "    if  n == 0 or n == 1 :\n",
    "        return n\n",
    "    return n + sum_to_n(n-1) \n",
    "n = int(input(\"Enter n for sum\"))\n",
    "print(f\"sum of first {n} natural numbers is  {sum_to_n(n)}\")"
   ]
  },
  {
   "cell_type": "code",
   "execution_count": 48,
   "metadata": {},
   "outputs": [
    {
     "name": "stdout",
     "output_type": "stream",
     "text": [
      "First 12 natural numbers:\n",
      "1 2 3 4 5 6 7 8 9 10 11 12 "
     ]
    }
   ],
   "source": [
    "#3\n",
    "def print_numbers(n , num = 1):\n",
    "    if num > n:\n",
    "        return\n",
    "    print(num, end = \" \")\n",
    "    print_numbers(n,num + 1)\n",
    "n = int(input(\"Enter n\"))\n",
    "print(f\"First {n} natural numbers:\")\n",
    "print_numbers(n)"
   ]
  },
  {
   "cell_type": "code",
   "execution_count": 49,
   "metadata": {},
   "outputs": [
    {
     "name": "stdout",
     "output_type": "stream",
     "text": [
      "12 ^ 2 = 144\n"
     ]
    }
   ],
   "source": [
    "#4\n",
    "def power(base, exp):\n",
    "    if exp == 1:\n",
    "        return base\n",
    "    return base * power(base , exp - 1) \n",
    "base = int(input(\"Enter base\"))\n",
    "exp = int(input (\"Enter power\"))\n",
    "print(f\"{base} ^ {exp} = {power(base,exp)}\")\n"
   ]
  },
  {
   "cell_type": "code",
   "execution_count": 71,
   "metadata": {},
   "outputs": [
    {
     "name": "stdout",
     "output_type": "stream",
     "text": [
      "Fibonacci series is:\n",
      "0\t1\t1\t2\t3\t5\t8\t13\t21\t34\t55\t89\t144\t233\t377\t610\t987\t1597\t2584\t4181\t6765\t10946\t17711\t28657\t46368\t75025\t121393\t196418\t317811\t514229\t832040\t1346269\t2178309\t3524578\t5702887\t9227465\t14930352\t24157817\t39088169\t63245986\t"
     ]
    }
   ],
   "source": [
    "#5\n",
    "def recur_fibb(n):\n",
    "    if n == 0:\n",
    "        return 0\n",
    "    elif n == 1:\n",
    "        return 1 \n",
    "    else:\n",
    "        return recur_fibb(n - 1) + recur_fibb(n - 2) \n",
    "num = int(input (\"Enter n\"))\n",
    "print(\"Fibonacci series is:\")\n",
    "for i in range(num):\n",
    "    print(recur_fibb(i),end = \"\\t\")"
   ]
  },
  {
   "cell_type": "code",
   "execution_count": 58,
   "metadata": {},
   "outputs": [
    {
     "name": "stdout",
     "output_type": "stream",
     "text": [
      "True\n"
     ]
    }
   ],
   "source": [
    "#6 \n",
    "def is_palindrome(a):\n",
    "    if len(a) <= 1 :\n",
    "        return True\n",
    "    return a[0] == a[-1] and is_palindrome(a[1:-1])\n",
    "str = input(\"Enter string:\")\n",
    "print(is_palindrome(str))"
   ]
  },
  {
   "cell_type": "code",
   "execution_count": 52,
   "metadata": {},
   "outputs": [
    {
     "name": "stdout",
     "output_type": "stream",
     "text": [
      "reverse of himanshu is uhsnamih\n"
     ]
    }
   ],
   "source": [
    "#7\n",
    "def reverse_string(A):\n",
    "    if len(A)<= 1:\n",
    "        return A\n",
    "    return A[-1] + reverse_string(A[1:-1]) +  A[0] \n",
    "str = input(\"Enter any string:\") \n",
    "print(f\"reverse of {str} is {reverse_string(str)}\")"
   ]
  },
  {
   "cell_type": "code",
   "execution_count": 53,
   "metadata": {},
   "outputs": [
    {
     "data": {
      "text/plain": [
       "1"
      ]
     },
     "execution_count": 53,
     "metadata": {},
     "output_type": "execute_result"
    }
   ],
   "source": [
    "#8\n",
    "def gcd(a,b):\n",
    "    while b:\n",
    "        a,b = b , a % b\n",
    "    return a\n",
    "gcd(4,5)"
   ]
  },
  {
   "cell_type": "code",
   "execution_count": 57,
   "metadata": {},
   "outputs": [
    {
     "name": "stdout",
     "output_type": "stream",
     "text": [
      "A==>C\n",
      "A==>B\n",
      "C==>B\n",
      "A==>C\n",
      "B==>A\n",
      "B==>C\n",
      "A==>C\n"
     ]
    }
   ],
   "source": [
    "#9\n",
    "def TOH(n,src,target,aux):\n",
    "    if n == 1:\n",
    "        print(f\"{src}==>{target}\")\n",
    "    else:\n",
    "        TOH(n-1,src,aux,target)\n",
    "        TOH(1,src,target,aux)\n",
    "        TOH(n-1,aux,target,src)\n",
    "n = int(input(\"Enter number of disks\"))\n",
    "TOH(n,'A','C','B')"
   ]
  },
  {
   "cell_type": "code",
   "execution_count": null,
   "metadata": {},
   "outputs": [],
   "source": []
  },
  {
   "cell_type": "code",
   "execution_count": null,
   "metadata": {},
   "outputs": [],
   "source": []
  }
 ],
 "metadata": {
  "kernelspec": {
   "display_name": "Python 3",
   "language": "python",
   "name": "python3"
  },
  "language_info": {
   "codemirror_mode": {
    "name": "ipython",
    "version": 3
   },
   "file_extension": ".py",
   "mimetype": "text/x-python",
   "name": "python",
   "nbconvert_exporter": "python",
   "pygments_lexer": "ipython3",
   "version": "3.13.0"
  }
 },
 "nbformat": 4,
 "nbformat_minor": 2
}
