{
 "cells": [
  {
   "cell_type": "code",
   "execution_count": 1,
   "metadata": {},
   "outputs": [
    {
     "data": {
      "text/plain": [
       "{'name': 'Alice', 'age': 25, 'city': 'New York'}"
      ]
     },
     "execution_count": 1,
     "metadata": {},
     "output_type": "execute_result"
    }
   ],
   "source": [
    "#1\n",
    "bio_dict ={\n",
    "    \n",
    "    'name': 'Alice',\n",
    "    'age': 25,\n",
    "    'city': 'New York'\n",
    "}\n",
    "bio_dict"
   ]
  },
  {
   "cell_type": "code",
   "execution_count": 3,
   "metadata": {},
   "outputs": [
    {
     "data": {
      "text/plain": [
       "'Bob'"
      ]
     },
     "execution_count": 3,
     "metadata": {},
     "output_type": "execute_result"
    }
   ],
   "source": [
    "#2\n",
    "person = {'name': 'Bob', 'age': 30}\n",
    "person['name']"
   ]
  },
  {
   "cell_type": "code",
   "execution_count": 6,
   "metadata": {},
   "outputs": [
    {
     "name": "stdout",
     "output_type": "stream",
     "text": [
      "The price of apple is 2\n",
      "The price of banana is 1\n",
      "The price of cherry is 3\n"
     ]
    }
   ],
   "source": [
    "#3\n",
    "fruit_prices = {'apple': 2, 'banana': 1, 'cherry': 3}\n",
    "for key ,value in fruit_prices.items():\n",
    "    print(f\"The price of {key} is {value}\")"
   ]
  },
  {
   "cell_type": "code",
   "execution_count": 7,
   "metadata": {},
   "outputs": [
    {
     "data": {
      "text/plain": [
       "{'name': 'Bob', 'age': 40}"
      ]
     },
     "execution_count": 7,
     "metadata": {},
     "output_type": "execute_result"
    }
   ],
   "source": [
    "#4\n",
    "person = {'name': 'Bob', 'age': 30}\n",
    "person['age'] = 40\n",
    "person"
   ]
  },
  {
   "cell_type": "code",
   "execution_count": 14,
   "metadata": {},
   "outputs": [
    {
     "name": "stdout",
     "output_type": "stream",
     "text": [
      "contact key  not present in bio_dict\n"
     ]
    }
   ],
   "source": [
    "#5\n",
    "bio_dict ={\n",
    "    \n",
    "    'name': 'Alice',\n",
    "    'age': 25,\n",
    "    'city': 'New York'\n",
    "}\n",
    "required_key ='contact'\n",
    "if required_key in bio_dict:\n",
    "    print(f\"{required_key} present in bio_dict\") \n",
    "else:\n",
    "    print(f\"{required_key} key  not present in bio_dict\") \n",
    "\n",
    "    "
   ]
  },
  {
   "cell_type": "code",
   "execution_count": 9,
   "metadata": {},
   "outputs": [
    {
     "name": "stdout",
     "output_type": "stream",
     "text": [
      "Marks in science is 85\n"
     ]
    }
   ],
   "source": [
    "#6\n",
    "nested_dict = {'student': {'name': 'Alice', 'marks': {'math': 90, 'science': 85}}}\n",
    "science = nested_dict['student']['marks']['science']\n",
    "print(f\"Marks in science is {science}\")"
   ]
  },
  {
   "cell_type": "code",
   "execution_count": 10,
   "metadata": {},
   "outputs": [
    {
     "data": {
      "text/plain": [
       "{'a': 1, 'b': 3, 'c': 4}"
      ]
     },
     "execution_count": 10,
     "metadata": {},
     "output_type": "execute_result"
    }
   ],
   "source": [
    "#7\n",
    "dict1 = {'a': 1, 'b': 2} \n",
    "dict2 = {'b': 3, 'c': 4}\n",
    "dict1.update(dict2)\n",
    "dict1 "
   ]
  },
  {
   "cell_type": "code",
   "execution_count": 11,
   "metadata": {},
   "outputs": [
    {
     "data": {
      "text/plain": [
       "[{'name': 'Ram', 'marks': {'science': 85, 'math': 97, 'English': 80}},\n",
       " {'name': 'Hari', 'marks': {'science': 88, 'math': 85, 'English': 84}},\n",
       " {'name': 'Mohan', 'marks': {'science': 95, 'math': 90, 'English': 86}}]"
      ]
     },
     "execution_count": 11,
     "metadata": {},
     "output_type": "execute_result"
    }
   ],
   "source": [
    "#8\n",
    "dict_list =[]\n",
    "dict1 = {'name': \"Ram\",'marks':{'science':85,'math': 97,'English':80}}\n",
    "dict2 = {'name':'Hari','marks':{'science':88,'math':85,'English':84}}\n",
    "dict3 = {'name':'Mohan','marks':{'science':95,'math':90,'English':86}}\n",
    "dict_list.append(dict1)\n",
    "dict_list.append(dict2)\n",
    "dict_list.append(dict3)\n",
    "dict_list\n"
   ]
  },
  {
   "cell_type": "code",
   "execution_count": 39,
   "metadata": {},
   "outputs": [
    {
     "name": "stdout",
     "output_type": "stream",
     "text": [
      "Teacher's name is Mrs. Smith\n",
      "The math score of the student named 'Charlie' is 95\n",
      "Students are :\n",
      "Alice,Bob,Charlie,\n",
      "Average marks of Alice  is 88.5\n",
      "Average marks of Bob  is 83.0\n",
      "Average marks of Charlie  is 92.0\n"
     ]
    }
   ],
   "source": [
    "#9\n",
    "data = {\n",
    "'class': 'Grade 5',\n",
    "'students': [\n",
    "{'name': 'Alice', 'subjects': {'math': 85, 'science': 92}},\n",
    "{'name': 'Bob', 'subjects': {'math': 78, 'science': 88}},\n",
    "{'name': 'Charlie', 'subjects': {'math': 95, 'science': 89}}\n",
    "],\n",
    "'teacher': {'name': 'Mrs. Smith', 'subject': 'science'}\n",
    "}\n",
    "\n",
    "\n",
    "print(f\"Teacher's name is {data['teacher']['name']}\")\n",
    "for student in data['students']:\n",
    "    if(student['name'] == 'Charlie'):\n",
    "        print(f\"The math score of the student \\\n",
    "named 'Charlie' is {student['subjects']['math']}\")\n",
    "        \n",
    "print(\"Students are :\")\n",
    "for student in data['students']:\n",
    "    print(f\"{student['name']}\",end =  \",\")\n",
    "print()\n",
    "avg = 0\n",
    "sm = 0\n",
    "i = 0\n",
    "for student in data['students']: \n",
    "    sm = 0\n",
    "    for marks in student['subjects'].values():\n",
    "        sm += marks\n",
    "    avg= sm /2\n",
    "    print(f\"Average marks of {student['name']}  is {avg}\")"
   ]
  },
  {
   "cell_type": "code",
   "execution_count": null,
   "metadata": {},
   "outputs": [],
   "source": []
  },
  {
   "cell_type": "code",
   "execution_count": null,
   "metadata": {},
   "outputs": [],
   "source": []
  },
  {
   "cell_type": "code",
   "execution_count": null,
   "metadata": {},
   "outputs": [],
   "source": []
  },
  {
   "cell_type": "code",
   "execution_count": null,
   "metadata": {},
   "outputs": [],
   "source": []
  },
  {
   "cell_type": "code",
   "execution_count": null,
   "metadata": {},
   "outputs": [],
   "source": []
  },
  {
   "cell_type": "code",
   "execution_count": null,
   "metadata": {},
   "outputs": [],
   "source": []
  },
  {
   "cell_type": "code",
   "execution_count": null,
   "metadata": {},
   "outputs": [],
   "source": []
  },
  {
   "cell_type": "code",
   "execution_count": null,
   "metadata": {},
   "outputs": [],
   "source": []
  },
  {
   "cell_type": "code",
   "execution_count": null,
   "metadata": {},
   "outputs": [],
   "source": []
  },
  {
   "cell_type": "code",
   "execution_count": null,
   "metadata": {},
   "outputs": [],
   "source": []
  },
  {
   "cell_type": "code",
   "execution_count": null,
   "metadata": {},
   "outputs": [],
   "source": []
  }
 ],
 "metadata": {
  "kernelspec": {
   "display_name": "Python 3",
   "language": "python",
   "name": "python3"
  },
  "language_info": {
   "codemirror_mode": {
    "name": "ipython",
    "version": 3
   },
   "file_extension": ".py",
   "mimetype": "text/x-python",
   "name": "python",
   "nbconvert_exporter": "python",
   "pygments_lexer": "ipython3",
   "version": "3.13.0"
  }
 },
 "nbformat": 4,
 "nbformat_minor": 2
}
