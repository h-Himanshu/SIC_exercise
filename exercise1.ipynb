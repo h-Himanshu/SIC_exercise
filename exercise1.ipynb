{
 "cells": [
  {
   "cell_type": "code",
   "execution_count": 76,
   "metadata": {},
   "outputs": [
    {
     "name": "stdout",
     "output_type": "stream",
     "text": [
      " AAA\n",
      "AAAAA\n",
      " AAA\n"
     ]
    }
   ],
   "source": [
    "#PP 1\n",
    "print(\" AAA\",\"AAAAA\",\" AAA\",sep = '\\n')"
   ]
  },
  {
   "cell_type": "code",
   "execution_count": 77,
   "metadata": {},
   "outputs": [
    {
     "name": "stdout",
     "output_type": "stream",
     "text": [
      "_It's my name - Rubina Joshi.\n",
      "And I Studied in IOE Campus_\n"
     ]
    }
   ],
   "source": [
    "#PP 2\n",
    "print(\"_It's my name - Rubina Joshi.\",\"And I Studied in IOE Campus_\",sep = '\\n')"
   ]
  },
  {
   "cell_type": "code",
   "execution_count": 78,
   "metadata": {},
   "outputs": [
    {
     "name": "stdout",
     "output_type": "stream",
     "text": [
      "D\n",
      "L\n"
     ]
    }
   ],
   "source": [
    "#PP 3\n",
    "string1 = \"HELLOW WORLD\"\n",
    "print(string1[-1])\n",
    "print(string1[3])\n",
    "# print(string1[16]) # index out of range\n",
    "\n"
   ]
  },
  {
   "cell_type": "code",
   "execution_count": 79,
   "metadata": {},
   "outputs": [
    {
     "name": "stdout",
     "output_type": "stream",
     "text": [
      "THRIA\n"
     ]
    }
   ],
   "source": [
    "#PP 4\n",
    "str = \"PYTHON TUTORIAL\"\n",
    "str1 = str[2:4]\n",
    "str2 = str[-4:-1]\n",
    "print(str1 + str2)"
   ]
  },
  {
   "cell_type": "code",
   "execution_count": 80,
   "metadata": {},
   "outputs": [
    {
     "name": "stdout",
     "output_type": "stream",
     "text": [
      "5! = 120\n"
     ]
    }
   ],
   "source": [
    "#PP 5\n",
    "n = int(input(\"Enter number to find factorial\"))\n",
    "fact = 1\n",
    "for i in range (1,n+1):\n",
    "    fact = fact *i\n",
    "print(f\"{n}! = {fact}\")\n",
    "    "
   ]
  },
  {
   "cell_type": "code",
   "execution_count": 81,
   "metadata": {},
   "outputs": [
    {
     "name": "stdout",
     "output_type": "stream",
     "text": [
      "Circumference of a circle=69.115024,Area of a circle=380.13263200000006\n"
     ]
    }
   ],
   "source": [
    "#PP 6\n",
    "PI = 3.141592\n",
    "radius =int( input(\"Enter radius of a circle:\"))\n",
    "circumference = 2*  PI *radius\n",
    "area = PI * radius * radius \n",
    "print(f\"Circumference of a circle={circumference}\",end =',')\n",
    "print(f\"Area of a circle={area}\")\n"
   ]
  },
  {
   "cell_type": "code",
   "execution_count": 82,
   "metadata": {},
   "outputs": [
    {
     "name": "stdout",
     "output_type": "stream",
     "text": [
      "a\tn\ta ** n\n",
      "2\t2\t4\n",
      "3\t2\t9\n",
      "4\t2\t16\n",
      "5\t2\t25\n",
      "6\t2\t36\n"
     ]
    }
   ],
   "source": [
    "#PP 7\n",
    "n = 2\n",
    "print('a\\tn\\ta ** n')\n",
    "for a in range(2,7):\n",
    "    print(a,n,a ** n,sep = '\\t')\n"
   ]
  },
  {
   "cell_type": "code",
   "execution_count": 83,
   "metadata": {},
   "outputs": [
    {
     "name": "stdout",
     "output_type": "stream",
     "text": [
      "In the fourth quadrant\n"
     ]
    }
   ],
   "source": [
    "#PP 8\n",
    "user_input = input(\"Enter xy coordinate separated by space:\")\n",
    "x,y =user_input.split()\n",
    "x = int(x)\n",
    "y = int(y)\n",
    "if(x > 0 and y > 0):\n",
    "    print(\"In the first quadrant\")\n",
    "elif(x < 0 and y > 0):\n",
    "    print(\"In the second quadrant\")\n",
    "elif(x < 0 and y < 0):\n",
    "    print(\"In the third quadrant\")\n",
    "else:\n",
    "    print(\"In the fourth quadrant\")"
   ]
  },
  {
   "cell_type": "code",
   "execution_count": 84,
   "metadata": {},
   "outputs": [
    {
     "name": "stdout",
     "output_type": "stream",
     "text": [
      "Welcome to yummy restaurant\n",
      "- Burger(enter b)\n",
      "- Chicken(enter c)\n",
      "- Pizza(enter p)\n",
      "you chose burger\n"
     ]
    }
   ],
   "source": [
    "#PP 9\n",
    "print(\"Welcome to yummy restaurant\")\n",
    "print(\"- Burger(enter b)\")\n",
    "print(\"- Chicken(enter c)\")\n",
    "print(\"- Pizza(enter p)\")\n",
    "status = False\n",
    "user_input =input(\"Choose a menu (enter b,c,p)\")\n",
    "while(status is False):\n",
    "    if user_input == 'b' or user_input == 'c'or user_input == 'p':\n",
    "        status = True\n",
    "        if(user_input == 'b'):\n",
    "            print(\"you chose burger\")\n",
    "        elif(user_input == 'c'):\n",
    "            print(\"you chose chicken\")\n",
    "        else:\n",
    "            print(\"you chose pizza\")\n",
    "    else:\n",
    "        user_input =input(\"enter the menu again:\")\n"
   ]
  },
  {
   "cell_type": "code",
   "execution_count": 85,
   "metadata": {},
   "outputs": [
    {
     "name": "stdout",
     "output_type": "stream",
     "text": [
      "Biggest number is 7\n"
     ]
    }
   ],
   "source": [
    "#PP 10\n",
    "num1 = int(input(\"Enter 1st number\"))\n",
    "num2 = int(input(\"Enter 2nd number\"))\n",
    "num3 = int(input(\"Enter 3rd number\"))\n",
    "biggest = num1\n",
    "if num2 > biggest:\n",
    "    biggest = num2\n",
    "if num3 > biggest:\n",
    "    biggest = num3\n",
    "print(f\"Biggest number is {biggest}\")\n",
    "    \n"
   ]
  },
  {
   "cell_type": "code",
   "execution_count": 2,
   "metadata": {},
   "outputs": [
    {
     "name": "stdout",
     "output_type": "stream",
     "text": [
      "1\t2\t3\t4\t5\t\n",
      "10\t9\t8\t7\t6\t\n",
      "11\t12\t13\t14\t15\t\n",
      "20\t19\t18\t17\t16\t\n",
      "21\t22\t23\t24\t25\t\n"
     ]
    }
   ],
   "source": [
    "#PP 11\n",
    "n = int(input (\"Enter n\"))\n",
    "start = 1\n",
    "for i in range(n):\n",
    "    if i % 2 == 0:\n",
    "        for j in range(n):\n",
    "            print(start ,end =\"\\t\")\n",
    "            start += 1\n",
    "    else:\n",
    "        row_end = start + n - 1\n",
    "        for j in range(n):\n",
    "            print(row_end - j ,end =\"\\t\")\n",
    "        start += n\n",
    "    print()\n",
    "    \n"
   ]
  },
  {
   "cell_type": "code",
   "execution_count": 87,
   "metadata": {},
   "outputs": [
    {
     "name": "stdout",
     "output_type": "stream",
     "text": [
      "7\n",
      "77\n",
      "777\n",
      "7777\n",
      "77777\n"
     ]
    }
   ],
   "source": [
    "#PP 12\n",
    "for i in range(1,6):\n",
    "    for j in range(1,i+1):\n",
    "        print('7',end = \"\")\n",
    "    print()"
   ]
  },
  {
   "cell_type": "code",
   "execution_count": 88,
   "metadata": {},
   "outputs": [
    {
     "name": "stdout",
     "output_type": "stream",
     "text": [
      "1 \n",
      "2 3 \n",
      "4 5 6 \n",
      "7 8 9 10 \n"
     ]
    }
   ],
   "source": [
    "#PP 13\n",
    "from random import randint\n",
    "lines = randint(3,10)\n",
    "num = 1\n",
    "for i in range(1 ,lines + 1):\n",
    "    for j in range(i):\n",
    "        print(num,end =\" \")\n",
    "        num += 1\n",
    "    print()"
   ]
  },
  {
   "cell_type": "code",
   "execution_count": 89,
   "metadata": {},
   "outputs": [
    {
     "name": "stdout",
     "output_type": "stream",
     "text": [
      "28 27 26 25 24 23 22 \n",
      "21 20 19 18 17 16 \n",
      "15 14 13 12 11 \n",
      "10 9 8 7 \n",
      "6 5 4 \n",
      "3 2 \n",
      "1 \n"
     ]
    }
   ],
   "source": [
    "#PP 14\n",
    "from random import randint\n",
    "lines = randint(3,10)\n",
    "num = lines * (lines + 1) // 2\n",
    "\n",
    "for i in range(lines):\n",
    "    for j in range(lines - i):\n",
    "        print(num,end =\" \")\n",
    "        num -= 1\n",
    "    print()"
   ]
  },
  {
   "cell_type": "code",
   "execution_count": 90,
   "metadata": {},
   "outputs": [
    {
     "name": "stdout",
     "output_type": "stream",
     "text": [
      "0,1,1,2,3,5,8,13,21,...\n"
     ]
    }
   ],
   "source": [
    "#PP 15\n",
    "from random import randint \n",
    "a = 0 \n",
    "b = 1 \n",
    "for i in range(0, randint(5,15) ):\n",
    "    print(a,end = \",\")\n",
    "    c =  a + b\n",
    "    a  = b\n",
    "    b = c\n",
    "print(\"...\")\n",
    "    "
   ]
  },
  {
   "cell_type": "code",
   "execution_count": 91,
   "metadata": {},
   "outputs": [
    {
     "name": "stdout",
     "output_type": "stream",
     "text": [
      "reverse of himanshu is uhsnamih\n"
     ]
    }
   ],
   "source": [
    "#PP 16\n",
    "str = input(\"Enter the string to be reversed\")\n",
    "reversed_str = str[::-1]\n",
    "print(f\"reverse of {str} is {reversed_str}\")"
   ]
  },
  {
   "cell_type": "code",
   "execution_count": 99,
   "metadata": {},
   "outputs": [
    {
     "name": "stdout",
     "output_type": "stream",
     "text": [
      "121 => palindrome\n"
     ]
    }
   ],
   "source": [
    "#PP 17\n",
    "n = input(\"Enter n\")\n",
    "reversed_n = n[::-1]\n",
    "if( n == reversed_n):\n",
    "    print(f\"{n} => palindrome\")\n",
    "else:\n",
    "    print(f\"{n} => Not palindrome\")\n",
    "    "
   ]
  },
  {
   "cell_type": "code",
   "execution_count": 101,
   "metadata": {},
   "outputs": [
    {
     "name": "stdout",
     "output_type": "stream",
     "text": [
      "Guess a number between 1 to 100\n",
      "Higher!\n",
      "Higher!\n",
      "Higher!\n",
      "Lower!\n",
      "Lower!\n",
      "Lower!\n",
      "Higher!\n",
      "Higher!\n",
      "Congratulations.Total try = 9\n"
     ]
    }
   ],
   "source": [
    "#PP 18\n",
    "from random import randint\n",
    "random_no =randint(1,100)\n",
    "attempts = 0\n",
    "print(\"Guess a number between 1 to 100\")\n",
    "while True:\n",
    "    guess = int(input(\"Enter a number\"))\n",
    "    if guess > 100 or guess < 1:\n",
    "        print(\"Please enter a valid number between 1 to 100.\")\n",
    "        continue\n",
    " \n",
    "    attempts += 1\n",
    "    if guess < random_no:\n",
    "        print(\"Higher!\")\n",
    "    elif guess > random_no:\n",
    "        print(\"Lower!\")\n",
    "    else:\n",
    "        print(f\"Congratulations.Total try = {attempts}\")\n",
    "        break\n",
    "    "
   ]
  },
  {
   "cell_type": "code",
   "execution_count": 94,
   "metadata": {},
   "outputs": [
    {
     "name": "stdout",
     "output_type": "stream",
     "text": [
      "   T\n",
      "  TTT\n",
      " TTTTT\n",
      "TTTTTTT\n",
      " TTTTT\n",
      "  TTT\n",
      "   T\n"
     ]
    }
   ],
   "source": [
    "#PP 19\n",
    "n = 7\n",
    "for row in range(1,n+1):\n",
    "    if row > (n + 1) // 2:\n",
    "        print(' ' * (row - (n+1) // 2 ) ,end = \"\")\n",
    "        print('T' * (2 * (n - row )+ 1),end = \"\")\n",
    "    else:\n",
    "        print(' ' * ((n+1) // 2 - row) ,end = \"\")\n",
    "        print('T' * (2 * row -1),end = \"\")\n",
    "            \n",
    "    print()"
   ]
  },
  {
   "cell_type": "code",
   "execution_count": 95,
   "metadata": {},
   "outputs": [
    {
     "name": "stdout",
     "output_type": "stream",
     "text": [
      "2024 is a leap year.\n"
     ]
    }
   ],
   "source": [
    "#PP 20\n",
    "year = int(input(\"Enter any year\"))\n",
    "if ((year % 4 == 0 \n",
    "    and year % 100 != 0) \n",
    "    or (year % 400 == 0)):\n",
    "       print(f\"{year} is a leap year.\")\n",
    "else:\n",
    "    print(f\"{year} is not a leap year.\") "
   ]
  },
  {
   "cell_type": "code",
   "execution_count": 96,
   "metadata": {},
   "outputs": [
    {
     "name": "stdout",
     "output_type": "stream",
     "text": [
      "BMI  is 28.88888888888889\n",
      "Pre-obesity\n"
     ]
    }
   ],
   "source": [
    "#PP 21\n",
    "Height_cm = int(input(\"Enter height in cm\"))\n",
    "Weight = int(input(\"Enter Weight in kg\"))\n",
    "Height_m = Height_cm / 100\n",
    "bmi = Weight / (Height_m) **2\n",
    "print(f\"BMI  is {bmi}\")\n",
    "if bmi < 18.5:\n",
    "    print(\"Underweight\")\n",
    "elif bmi >= 18.5 and bmi < 24.9:\n",
    "    print(\"Normal weight\")\n",
    "elif bmi >= 25.0 and bmi < 29.9:\n",
    "    print(\"Pre-obesity\")\n",
    "elif bmi >= 30.0 and bmi < 34.9:\n",
    "    print(\"Obesity class I\")\n",
    "elif bmi >= 35.0 and bmi < 39.9:\n",
    "    print(\"Obesity class II\")\n",
    "else:\n",
    "    print(\"Obesity class III\")\n",
    "\n",
    "    \n",
    "    \n",
    "    \n",
    "\n"
   ]
  },
  {
   "cell_type": "code",
   "execution_count": 97,
   "metadata": {},
   "outputs": [
    {
     "name": "stdout",
     "output_type": "stream",
     "text": [
      "You are in teenage\n"
     ]
    }
   ],
   "source": [
    "#PP 22\n",
    "age = int(input(\"Enter your age\"))\n",
    "if age >= 13 and  age <= 19:\n",
    "    print(\"You are in teenage\")\n",
    "else:\n",
    "    print(\"You are  not in teenage\")\n"
   ]
  },
  {
   "cell_type": "code",
   "execution_count": null,
   "metadata": {},
   "outputs": [],
   "source": []
  },
  {
   "cell_type": "code",
   "execution_count": 98,
   "metadata": {},
   "outputs": [
    {
     "name": "stdout",
     "output_type": "stream",
     "text": [
      "2 3 5 7 11 13 17 19 23 29 31 37 41 43 47 53 59 61 67 71 73 79 83 89 97 "
     ]
    }
   ],
   "source": [
    "#PP 23\n",
    "for num in range(2,101):\n",
    "    for j in range (2,int(num ** (1 / 2)) + 1):\n",
    "        if num == 2:\n",
    "            print(num)\n",
    "        else:\n",
    "            if(num % j == 0):\n",
    "                break\n",
    "    else:\n",
    "        print(num,end = \" \")"
   ]
  },
  {
   "cell_type": "code",
   "execution_count": null,
   "metadata": {},
   "outputs": [],
   "source": []
  },
  {
   "cell_type": "code",
   "execution_count": null,
   "metadata": {},
   "outputs": [],
   "source": []
  }
 ],
 "metadata": {
  "kernelspec": {
   "display_name": "Python 3",
   "language": "python",
   "name": "python3"
  },
  "language_info": {
   "codemirror_mode": {
    "name": "ipython",
    "version": 3
   },
   "file_extension": ".py",
   "mimetype": "text/x-python",
   "name": "python",
   "nbconvert_exporter": "python",
   "pygments_lexer": "ipython3",
   "version": "3.13.0"
  }
 },
 "nbformat": 4,
 "nbformat_minor": 2
}
