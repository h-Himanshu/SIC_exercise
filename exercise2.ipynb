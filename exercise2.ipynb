{
 "cells": [
  {
   "cell_type": "code",
   "execution_count": 1,
   "metadata": {},
   "outputs": [
    {
     "data": {
      "text/plain": [
       "[0, 1, 2, 3, 4]"
      ]
     },
     "execution_count": 1,
     "metadata": {},
     "output_type": "execute_result"
    }
   ],
   "source": [
    "#1\n",
    "list = []\n",
    "for i in range(5):\n",
    "    list.append(i)\n",
    "list"
   ]
  },
  {
   "cell_type": "code",
   "execution_count": 2,
   "metadata": {},
   "outputs": [
    {
     "data": {
      "text/plain": [
       "['a', 'aa', 'aaa', 'aaaa', 'aaaaa']"
      ]
     },
     "execution_count": 2,
     "metadata": {},
     "output_type": "execute_result"
    }
   ],
   "source": [
    "#2\n",
    "list2 = []\n",
    "for i in range(1,6):\n",
    "    list2.append(\"a\"*i)\n",
    "list2 "
   ]
  },
  {
   "cell_type": "code",
   "execution_count": 5,
   "metadata": {},
   "outputs": [
    {
     "name": "stdout",
     "output_type": "stream",
     "text": [
      "green\n",
      "['blue', 'green', 'yellow']\n",
      "['red', 'blue', 'green', 'yellow']\n",
      "['red', 'blue']\n"
     ]
    }
   ],
   "source": [
    "#3\n",
    "colors = ['red', 'blue', 'green', 'yellow'] \n",
    "print(colors[2])\n",
    "print(colors[1:4])\n",
    "print(colors[-10:])\n",
    "print(colors[-5:2])"
   ]
  },
  {
   "cell_type": "code",
   "execution_count": 6,
   "metadata": {},
   "outputs": [
    {
     "data": {
      "text/plain": [
       "[2, 3.0, '4', True]"
      ]
     },
     "execution_count": 6,
     "metadata": {},
     "output_type": "execute_result"
    }
   ],
   "source": [
    "#4\n",
    "list3 = []\n",
    "list3.append(2)\n",
    "list3.append(3.0)\n",
    "list3.append(\"4\")\n",
    "list3.append(True)\n",
    "list3\n",
    "\n"
   ]
  },
  {
   "cell_type": "code",
   "execution_count": 21,
   "metadata": {},
   "outputs": [
    {
     "name": "stdout",
     "output_type": "stream",
     "text": [
      "minimum marks is 48\n",
      "maximum marks is 98\n",
      "Percentage is 63.6\n",
      "Grade C\n",
      "[50, 48, 65, 98, 57]\n"
     ]
    }
   ],
   "source": [
    "#5\n",
    "subjects = []\n",
    "sum = 0 \n",
    "for i in range(5):\n",
    "    marks =int(input(f\"Enter the marks of {i} subect\"))\n",
    "    sum += marks\n",
    "    subjects.append(marks)\n",
    "temp = subjects.copy()\n",
    "temp.sort()\n",
    "print(f\"minimum marks is {temp[0]}\")\n",
    "print(f\"maximum marks is {temp[-1]}\")\n",
    "percentage = sum /500 *100\n",
    "print(f\"Percentage is {percentage}\")\n",
    "\n",
    "if percentage > 90:\n",
    "    print(\"Grade A\")\n",
    "elif percentage < 90 and percentage > 80:\n",
    "    print(\"Grade B\")\n",
    "elif percentage < 80:\n",
    "    print(\"Grade C\")\n",
    "print(subjects)"
   ]
  },
  {
   "cell_type": "code",
   "execution_count": 45,
   "metadata": {},
   "outputs": [
    {
     "name": "stdout",
     "output_type": "stream",
     "text": [
      "150,38,308,146,353,"
     ]
    }
   ],
   "source": [
    "#6\n",
    "from random import randint\n",
    "list = []\n",
    "for i in range(5):\n",
    "    val = randint(1,500)\n",
    "    list.append(val)\n",
    "for item in list:\n",
    "    print(item, end = \",\")"
   ]
  },
  {
   "cell_type": "code",
   "execution_count": 47,
   "metadata": {},
   "outputs": [
    {
     "name": "stdout",
     "output_type": "stream",
     "text": [
      "[1, 2, 3, '4']\n",
      "[5, 6, True, 6.0]\n"
     ]
    },
    {
     "data": {
      "text/plain": [
       "[1, 2, 3, '4', 5, 6, True, 6.0]"
      ]
     },
     "execution_count": 47,
     "metadata": {},
     "output_type": "execute_result"
    }
   ],
   "source": [
    "#7\n",
    "list_1 =[1,2,3,\"4\"]\n",
    "print(list_1)\n",
    "list_2 = [5,6,True,6.0]\n",
    "print(list_2)\n",
    "list3 = list_1 + list_2\n",
    "list3\n"
   ]
  },
  {
   "cell_type": "code",
   "execution_count": 5,
   "metadata": {},
   "outputs": [
    {
     "name": "stdout",
     "output_type": "stream",
     "text": [
      " the unique values for the list are [1, 2, 3]\n"
     ]
    }
   ],
   "source": [
    "#8\n",
    "list = []\n",
    "while True:\n",
    "    ip  = input(\"Enter any number or press q to quit\")\n",
    "    if(ip == 'q' or ip == 'Q'):\n",
    "        break\n",
    "    if type(ip) != 'int':\n",
    "        ip = int(ip)\n",
    "    if(ip not in  list):\n",
    "        list.append(ip)\n",
    "    \n",
    "print(f\" the unique values for the list are {list}\")   \n"
   ]
  },
  {
   "cell_type": "code",
   "execution_count": 8,
   "metadata": {},
   "outputs": [
    {
     "name": "stdout",
     "output_type": "stream",
     "text": [
      "Common element are: 7 4 5 "
     ]
    }
   ],
   "source": [
    "#9\n",
    "list_1 = [1, 2, 3, 4, 5] \n",
    "list_2 = [4, 5, 6, 7, 8]\n",
    "print(\"Common element are:\",end = \" \")\n",
    "for item in list_1:\n",
    "    if item in list_2:\n",
    "        print(item,end = \" \")"
   ]
  },
  {
   "cell_type": "code",
   "execution_count": 10,
   "metadata": {},
   "outputs": [
    {
     "name": "stdout",
     "output_type": "stream",
     "text": [
      "1 2 3 \n",
      "4 5 6 \n",
      "7 8 9 \n"
     ]
    }
   ],
   "source": [
    "#10\n",
    "matrix =  []\n",
    "row1 = [1 ,2, 3]\n",
    "row2 = [4 ,5, 6]\n",
    "row3 = [7 ,8, 9]\n",
    "matrix.append(row1)\n",
    "matrix.append(row2)\n",
    "matrix.append(row3)\n",
    "for i in matrix:\n",
    "    for j in i:\n",
    "        print(j,end = \" \")\n",
    "    print()"
   ]
  },
  {
   "cell_type": "code",
   "execution_count": 11,
   "metadata": {},
   "outputs": [
    {
     "data": {
      "text/plain": [
       "[1, 2, 3, 4, 5, 6]"
      ]
     },
     "execution_count": 11,
     "metadata": {},
     "output_type": "execute_result"
    }
   ],
   "source": [
    "#11\n",
    "list = [[1, 2], [3, 4], [5, 6]]\n",
    "new_list = []\n",
    "for item in list:\n",
    "    for i in item:\n",
    "        new_list.append(i)\n",
    "list = new_list\n",
    "list"
   ]
  },
  {
   "cell_type": "code",
   "execution_count": 39,
   "metadata": {},
   "outputs": [
    {
     "name": "stdout",
     "output_type": "stream",
     "text": [
      "Rock Paper Scissor game\n",
      "press 0 for Rock\n",
      "press 1 for Paper\n",
      "press 2 for Scissor\n",
      "\n",
      "computer won\n",
      "you chose Rock\n",
      "\n",
      "user won\n",
      "you chose Scissor\n",
      "\n",
      "user won\n",
      "you chose Paper\n"
     ]
    }
   ],
   "source": [
    "#12\n",
    "from random import choice\n",
    "game = [\"Rock\",\"Paper\",\"Scissor\"]\n",
    "print(\"Rock Paper Scissor game\")\n",
    "print(\"press 0 for Rock\",\"press 1 for Paper\",\"press 2 for Scissor\",sep = \"\\n\")\n",
    "for i in range(3):  \n",
    "    print()\n",
    "    user = int(input())\n",
    "    computer = choice([0,1,2])\n",
    "    if computer == 0 :\n",
    "        if user == 1:\n",
    "            print(\"user won\")\n",
    "        elif user == 2:\n",
    "            print(\"computer won\")\n",
    "        elif user == 0:\n",
    "            print(\"draw\")\n",
    "            \n",
    "    elif computer == 1 :\n",
    "        if user == 0:\n",
    "            print(\"computer won\")\n",
    "        elif user == 2:\n",
    "            print(\"user won\")\n",
    "        elif user == 1:\n",
    "            print(\"draw\")\n",
    "        \n",
    "    else:\n",
    "        if user == 0:\n",
    "            print(\"computer won\")\n",
    "        elif user == 1:\n",
    "            print(\"user won\")\n",
    "        elif user == 2:\n",
    "            print(\"draw\")\n",
    "    print(f\"you chose {game[user]}\")\n",
    "\n",
    "\n",
    "\n"
   ]
  },
  {
   "cell_type": "code",
   "execution_count": 7,
   "metadata": {},
   "outputs": [
    {
     "name": "stdout",
     "output_type": "stream",
     "text": [
      "The shortest string:abc\n"
     ]
    }
   ],
   "source": [
    "# PP1\n",
    "s_list = ['abc', 'bcd', 'bcdefg', 'abba', 'cddc', 'opq']\n",
    "min_element = s_list[0]\n",
    "for item in s_list:\n",
    "    if len(item) < len(min_element):\n",
    "        min_element = item\n",
    "print(f\"The shortest string:{min_element}\")"
   ]
  },
  {
   "cell_type": "code",
   "execution_count": 11,
   "metadata": {},
   "outputs": [
    {
     "name": "stdout",
     "output_type": "stream",
     "text": [
      "The longest string:uythth\n"
     ]
    }
   ],
   "source": [
    "#PP2\n",
    "s_list = ['abc','bcd', 'bcdefg', 'abba', 'cddc', 'opq']\n",
    "max_element = s_list[0]\n",
    "for item in s_list:\n",
    "    if len(item) > len(max_element):\n",
    "        max_element = item\n",
    "print(f\"The longest string:{max_element}\")"
   ]
  },
  {
   "cell_type": "code",
   "execution_count": 2,
   "metadata": {},
   "outputs": [
    {
     "name": "stdout",
     "output_type": "stream",
     "text": [
      "'abc','bcd','opq',"
     ]
    }
   ],
   "source": [
    "#PP3\n",
    "s_list = ['abc', 'bcd', 'bcdefg', 'abba', 'cddc', 'opq']\n",
    "s_list.sort(key = len)\n",
    "min_length = len(s_list[0])\n",
    "for item in s_list:\n",
    "    if(len(item) == min_length):\n",
    "        print(f\"'{item}'\",end = \",\")\n"
   ]
  }
 ],
 "metadata": {
  "kernelspec": {
   "display_name": "Python 3",
   "language": "python",
   "name": "python3"
  },
  "language_info": {
   "codemirror_mode": {
    "name": "ipython",
    "version": 3
   },
   "file_extension": ".py",
   "mimetype": "text/x-python",
   "name": "python",
   "nbconvert_exporter": "python",
   "pygments_lexer": "ipython3",
   "version": "3.13.0"
  }
 },
 "nbformat": 4,
 "nbformat_minor": 2
}
