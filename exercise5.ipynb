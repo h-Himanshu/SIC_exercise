{
 "cells": [
  {
   "cell_type": "code",
   "execution_count": 2,
   "metadata": {},
   "outputs": [
    {
     "data": {
      "text/plain": [
       "[1, 4, 9, 16]"
      ]
     },
     "execution_count": 2,
     "metadata": {},
     "output_type": "execute_result"
    }
   ],
   "source": [
    "#1\n",
    "def square_list(numbers):\n",
    "    return [i ** 2 for i in numbers]\n",
    "square_list([i for i in range(1,5)])"
   ]
  },
  {
   "cell_type": "code",
   "execution_count": 3,
   "metadata": {},
   "outputs": [
    {
     "data": {
      "text/plain": [
       "'Shyam'"
      ]
     },
     "execution_count": 3,
     "metadata": {},
     "output_type": "execute_result"
    }
   ],
   "source": [
    "#2\n",
    "def get_employee_name(employee_dict, employee_id):\n",
    "    return employee_dict[employee_id]\n",
    "\n",
    "my_dict =  {\n",
    "    1:\"Mohan\",\n",
    "    2:\"Shyam\",\n",
    "    3:\"Hari\",\n",
    "}\n",
    "get_employee_name(my_dict,2)"
   ]
  },
  {
   "cell_type": "code",
   "execution_count": 13,
   "metadata": {},
   "outputs": [
    {
     "data": {
      "text/plain": [
       "{'Ram': 81, 'Shyam': 90, 'Ramesh': 90}"
      ]
     },
     "execution_count": 13,
     "metadata": {},
     "output_type": "execute_result"
    }
   ],
   "source": [
    "#3\n",
    "def filter_high_scores(scores):\n",
    "    new_dict = {i:j for i,j in scores.items() if j > 80}\n",
    "    return new_dict\n",
    "my_dict2 ={\n",
    "    'Ram': 81,\n",
    "    'Shyam': 90,\n",
    "    'Mohan': 50,\n",
    "    'Ramesh': 90\n",
    "}\n",
    "filter_high_scores(my_dict2)"
   ]
  },
  {
   "cell_type": "code",
   "execution_count": 1,
   "metadata": {},
   "outputs": [
    {
     "data": {
      "text/plain": [
       "{2, 3}"
      ]
     },
     "execution_count": 1,
     "metadata": {},
     "output_type": "execute_result"
    }
   ],
   "source": [
    "#4\n",
    "def common_elements(set1, set2) :\n",
    "    return set1 & set2\n",
    "set1 = {1,2,3,7}\n",
    "set2 = {3,4,5,2}\n",
    "common_elements(set1, set2)"
   ]
  },
  {
   "cell_type": "code",
   "execution_count": 5,
   "metadata": {},
   "outputs": [
    {
     "name": "stdout",
     "output_type": "stream",
     "text": [
      "9 3\n",
      "3 0\n"
     ]
    },
    {
     "data": {
      "text/plain": [
       "90"
      ]
     },
     "execution_count": 5,
     "metadata": {},
     "output_type": "execute_result"
    }
   ],
   "source": [
    "#5\n",
    "def gcd (a,b):\n",
    "    while b:\n",
    "        a,b = b,a % b\n",
    "        print(a,b)\n",
    "    return a\n",
    "def lcm(a,b):\n",
    "    return abs(a * b) //gcd(a,b)\n",
    "x = 30\n",
    "y = 9\n",
    "\n",
    "\n",
    "lcm(x,y)"
   ]
  },
  {
   "cell_type": "code",
   "execution_count": 4,
   "metadata": {},
   "outputs": [
    {
     "data": {
      "text/plain": [
       "False"
      ]
     },
     "execution_count": 4,
     "metadata": {},
     "output_type": "execute_result"
    }
   ],
   "source": [
    "#6\n",
    "def is_prime(num):\n",
    "    if num == 2:\n",
    "        return True\n",
    "    for i in range(1,num ** (1//2) + 1):\n",
    "        if num % 2 == 0 :\n",
    "            return False\n",
    "        return True\n",
    "\n",
    "is_prime(4)"
   ]
  },
  {
   "cell_type": "code",
   "execution_count": null,
   "metadata": {},
   "outputs": [],
   "source": [
    "#7\n",
    "def sieve_of_eratosthenes(n):\n",
    "    primes = [True] * (n + 1)  # Create a boolean array and initialize all as True\n",
    "    primes[0] = primes[1] = False  # 0 and 1 are not prime\n",
    "\n",
    "    for p in range(2, int(n**0.5) + 1):\n",
    "        if primes[p]:  # If p is prime, mark its multiples as non-prime\n",
    "            for i in range(p * p, n + 1, p):\n",
    "                primes[i] = False\n",
    "\n",
    "    return [p for p in range(n + 1) if primes[p]]  # Collect all prime numbers\n",
    "\n",
    "# Example usage\n",
    "n = 50\n",
    "print(sieve_of_eratosthenes(n))\n"
   ]
  },
  {
   "cell_type": "code",
   "execution_count": 4,
   "metadata": {},
   "outputs": [
    {
     "data": {
      "text/plain": [
       "27"
      ]
     },
     "execution_count": 4,
     "metadata": {},
     "output_type": "execute_result"
    }
   ],
   "source": [
    "def my_sum(*args):\n",
    "    sum = 0\n",
    "    for i in args:\n",
    "        sum += i\n",
    "    return sum\n",
    "my_sum(1,2,5,4,7,8)"
   ]
  },
  {
   "cell_type": "code",
   "execution_count": null,
   "metadata": {},
   "outputs": [],
   "source": []
  }
 ],
 "metadata": {
  "kernelspec": {
   "display_name": "Python 3",
   "language": "python",
   "name": "python3"
  },
  "language_info": {
   "codemirror_mode": {
    "name": "ipython",
    "version": 3
   },
   "file_extension": ".py",
   "mimetype": "text/x-python",
   "name": "python",
   "nbconvert_exporter": "python",
   "pygments_lexer": "ipython3",
   "version": "3.13.0"
  }
 },
 "nbformat": 4,
 "nbformat_minor": 2
}
