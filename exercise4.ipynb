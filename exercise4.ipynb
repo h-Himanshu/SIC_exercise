{
 "cells": [
  {
   "cell_type": "code",
   "execution_count": 35,
   "metadata": {},
   "outputs": [
    {
     "data": {
      "text/plain": [
       "list"
      ]
     },
     "execution_count": 35,
     "metadata": {},
     "output_type": "execute_result"
    }
   ],
   "source": [
    "#1\n",
    "empty_list = []\n",
    "type(empty_list)"
   ]
  },
  {
   "cell_type": "code",
   "execution_count": 36,
   "metadata": {},
   "outputs": [
    {
     "data": {
      "text/plain": [
       "list"
      ]
     },
     "execution_count": 36,
     "metadata": {},
     "output_type": "execute_result"
    }
   ],
   "source": [
    "empty_list2 = list()\n",
    "type(empty_list2)"
   ]
  },
  {
   "cell_type": "code",
   "execution_count": 37,
   "metadata": {},
   "outputs": [
    {
     "data": {
      "text/plain": [
       "tuple"
      ]
     },
     "execution_count": 37,
     "metadata": {},
     "output_type": "execute_result"
    }
   ],
   "source": [
    "empty_tuple = ()\n",
    "type(empty_tuple)"
   ]
  },
  {
   "cell_type": "code",
   "execution_count": 38,
   "metadata": {},
   "outputs": [
    {
     "data": {
      "text/plain": [
       "tuple"
      ]
     },
     "execution_count": 38,
     "metadata": {},
     "output_type": "execute_result"
    }
   ],
   "source": [
    "empty_tuple2 =tuple()\n",
    "type(empty_tuple2)"
   ]
  },
  {
   "cell_type": "code",
   "execution_count": 39,
   "metadata": {},
   "outputs": [
    {
     "data": {
      "text/plain": [
       "dict"
      ]
     },
     "execution_count": 39,
     "metadata": {},
     "output_type": "execute_result"
    }
   ],
   "source": [
    "empty_dict = {}\n",
    "type(empty_dict)"
   ]
  },
  {
   "cell_type": "code",
   "execution_count": 40,
   "metadata": {},
   "outputs": [
    {
     "data": {
      "text/plain": [
       "dict"
      ]
     },
     "execution_count": 40,
     "metadata": {},
     "output_type": "execute_result"
    }
   ],
   "source": [
    "empty_dict2 = dict()\n",
    "type(empty_dict2)"
   ]
  },
  {
   "cell_type": "code",
   "execution_count": 41,
   "metadata": {},
   "outputs": [
    {
     "data": {
      "text/plain": [
       "set"
      ]
     },
     "execution_count": 41,
     "metadata": {},
     "output_type": "execute_result"
    }
   ],
   "source": [
    "empty_set = set()\n",
    "type(empty_set)"
   ]
  },
  {
   "cell_type": "code",
   "execution_count": 42,
   "metadata": {},
   "outputs": [
    {
     "data": {
      "text/plain": [
       "tuple"
      ]
     },
     "execution_count": 42,
     "metadata": {},
     "output_type": "execute_result"
    }
   ],
   "source": [
    "new_tuple = tuple({1})\n",
    "type(new_tuple)"
   ]
  },
  {
   "cell_type": "code",
   "execution_count": 43,
   "metadata": {},
   "outputs": [
    {
     "data": {
      "text/plain": [
       "tuple"
      ]
     },
     "execution_count": 43,
     "metadata": {},
     "output_type": "execute_result"
    }
   ],
   "source": [
    "new_tuple2 = ( 1,)\n",
    "type(new_tuple2)"
   ]
  },
  {
   "cell_type": "code",
   "execution_count": 44,
   "metadata": {},
   "outputs": [
    {
     "data": {
      "text/plain": [
       "(1, 2, 3, 4)"
      ]
     },
     "execution_count": 44,
     "metadata": {},
     "output_type": "execute_result"
    }
   ],
   "source": [
    "#2\n",
    "list1 = [1,2,3,4]\n",
    "tuple(list1)"
   ]
  },
  {
   "cell_type": "code",
   "execution_count": 45,
   "metadata": {},
   "outputs": [
    {
     "data": {
      "text/plain": [
       "[2, 4, 8, 5]"
      ]
     },
     "execution_count": 45,
     "metadata": {},
     "output_type": "execute_result"
    }
   ],
   "source": [
    "my_tuple = (2,4,8,5)\n",
    "list(my_tuple)"
   ]
  },
  {
   "cell_type": "code",
   "execution_count": 46,
   "metadata": {},
   "outputs": [
    {
     "data": {
      "text/plain": [
       "{2, 4, 5, 8}"
      ]
     },
     "execution_count": 46,
     "metadata": {},
     "output_type": "execute_result"
    }
   ],
   "source": [
    "set(my_tuple)"
   ]
  },
  {
   "cell_type": "code",
   "execution_count": 47,
   "metadata": {},
   "outputs": [
    {
     "data": {
      "text/plain": [
       "[9, 3, 6, 7]"
      ]
     },
     "execution_count": 47,
     "metadata": {},
     "output_type": "execute_result"
    }
   ],
   "source": [
    "myset =  {9,7,3,6}\n",
    "list(myset)"
   ]
  },
  {
   "cell_type": "code",
   "execution_count": 48,
   "metadata": {},
   "outputs": [
    {
     "data": {
      "text/plain": [
       "(9, 3, 6, 7)"
      ]
     },
     "execution_count": 48,
     "metadata": {},
     "output_type": "execute_result"
    }
   ],
   "source": [
    "tuple(myset)"
   ]
  },
  {
   "cell_type": "code",
   "execution_count": 49,
   "metadata": {},
   "outputs": [
    {
     "data": {
      "text/plain": [
       "{1: 2, 2: 3, 3: 4}"
      ]
     },
     "execution_count": 49,
     "metadata": {},
     "output_type": "execute_result"
    }
   ],
   "source": [
    "#3\n",
    "data = [(1,2), (2,3), (3,4)] \n",
    "my_dict = {}\n",
    "my_dict = dict(data)\n",
    "my_dict"
   ]
  },
  {
   "cell_type": "code",
   "execution_count": 50,
   "metadata": {},
   "outputs": [
    {
     "name": "stdout",
     "output_type": "stream",
     "text": [
      "first repeated element is 1\n"
     ]
    }
   ],
   "source": [
    "#4 \n",
    "my_list = [1,2,3,1,5]\n",
    "new_set = []\n",
    "for item in my_list:\n",
    "    if my_list.count(item) > 1:\n",
    "        print(f\"first repeated element is {item}\")\n",
    "        break\n",
    "else:\n",
    "    print(None)"
   ]
  },
  {
   "cell_type": "code",
   "execution_count": 51,
   "metadata": {},
   "outputs": [
    {
     "name": "stdout",
     "output_type": "stream",
     "text": [
      "{1: 4, 2: 3, 3: 2}\n"
     ]
    }
   ],
   "source": [
    "#5\n",
    "my_list = [1,2,3,1,2,3,1,2,1]\n",
    "my_set = set(my_list)\n",
    "count = len(my_set)\n",
    "my_dict =  {}\n",
    "type(my_dict)\n",
    "for i in my_set:\n",
    "    my_dict[i] = my_list.count(i)\n",
    "print(my_dict)"
   ]
  },
  {
   "cell_type": "code",
   "execution_count": 52,
   "metadata": {},
   "outputs": [
    {
     "data": {
      "text/plain": [
       "[1, 2, 3, 5, 6, 8]"
      ]
     },
     "execution_count": 52,
     "metadata": {},
     "output_type": "execute_result"
    }
   ],
   "source": [
    "# 6\n",
    "list1 = [1,2,3,5,6,2,8,1,2]\n",
    "list1 = list(set(list1))\n",
    "list1"
   ]
  },
  {
   "cell_type": "code",
   "execution_count": 53,
   "metadata": {},
   "outputs": [
    {
     "data": {
      "text/plain": [
       "True"
      ]
     },
     "execution_count": 53,
     "metadata": {},
     "output_type": "execute_result"
    }
   ],
   "source": [
    "#7\n",
    "set1 = {'apple', 'banana', 'cherry'}\n",
    "'banana' in set1"
   ]
  },
  {
   "cell_type": "code",
   "execution_count": 54,
   "metadata": {},
   "outputs": [
    {
     "data": {
      "text/plain": [
       "False"
      ]
     },
     "execution_count": 54,
     "metadata": {},
     "output_type": "execute_result"
    }
   ],
   "source": [
    "'berry' in set1"
   ]
  },
  {
   "cell_type": "code",
   "execution_count": 55,
   "metadata": {},
   "outputs": [
    {
     "data": {
      "text/plain": [
       "{'apple', 'banana', 'cherry', 'orange'}"
      ]
     },
     "execution_count": 55,
     "metadata": {},
     "output_type": "execute_result"
    }
   ],
   "source": [
    "set1.add('orange')\n",
    "set1"
   ]
  },
  {
   "cell_type": "code",
   "execution_count": 56,
   "metadata": {},
   "outputs": [
    {
     "data": {
      "text/plain": [
       "{'apple', 'cherry', 'orange'}"
      ]
     },
     "execution_count": 56,
     "metadata": {},
     "output_type": "execute_result"
    }
   ],
   "source": [
    "set1.remove('banana')\n",
    "set1"
   ]
  },
  {
   "cell_type": "code",
   "execution_count": 57,
   "metadata": {},
   "outputs": [
    {
     "name": "stdout",
     "output_type": "stream",
     "text": [
      "Union of set1 and set2 is {1, 2, 3, 4, 5}\n",
      "Intersection of set1 and set2 is {2, 3}\n",
      "Difference of set1 and set2 is {1, 4}\n"
     ]
    }
   ],
   "source": [
    "#8\n",
    "set1 = {1, 2, 3, 4} \n",
    "set2 = {2, 3, 5}\n",
    "set3 = set1 | set2\n",
    "set4 = set1 & set2\n",
    "set5 = set1.difference(set2)\n",
    "print(f\"Union of set1 and set2 is {set3}\")\n",
    "print(f\"Intersection of set1 and set2 is {set4}\")\n",
    "print(f\"Difference of set1 and set2 is {set5}\")\n"
   ]
  },
  {
   "cell_type": "code",
   "execution_count": 58,
   "metadata": {},
   "outputs": [
    {
     "name": "stdout",
     "output_type": "stream",
     "text": [
      "False\n"
     ]
    }
   ],
   "source": [
    "#9\n",
    "print(set1.issubset(set2))"
   ]
  },
  {
   "cell_type": "code",
   "execution_count": 59,
   "metadata": {},
   "outputs": [
    {
     "name": "stdout",
     "output_type": "stream",
     "text": [
      "False\n"
     ]
    }
   ],
   "source": [
    "print(set2.issuperset(set1))"
   ]
  },
  {
   "cell_type": "code",
   "execution_count": 60,
   "metadata": {},
   "outputs": [],
   "source": [
    "#10\n",
    "import json\n",
    "data = {\n",
    " \"company\": {\n",
    " \"name\": \"TechCorp\",\n",
    " \"employees\": [\n",
    " {\n",
    " \"id\": 1,\n",
    " \"name\": \"Alice\",\n",
    " \"department\": \"Development\",\n",
    " \"skills\": [\"Python\", \"Django\", \"React\"],\n",
    " \"salary\": 75000\n",
    " },\n",
    " {\n",
    " \"id\": 2,\n",
    " \"name\": \"Bob\",\n",
    " \"department\": \"Development\",\n",
    " \"skills\": [\"Java\", \"Spring\", \"Angular\"],\n",
    " \"salary\": 70000\n",
    " },\n",
    " {\n",
    " \"id\": 3,\n",
    " \"name\": \"Charlie\",\n",
    " \"department\": \"Marketing\",\n",
    " \"skills\": [\"SEO\", \"Content Writing\"],\n",
    " \"salary\": 60000\n",
    " }\n",
    " ],\n",
    " \"location\": {\n",
    " \"city\": \"New York\",\n",
    " \"country\": \"USA\"\n",
    " },\n",
    " \"products\": [\n",
    " {\"id\": \"P1\", \"name\": \"ProductA\", \"price\": 120.50},\n",
    " {\"id\": \"P2\", \"name\": \"ProductB\", \"price\": 80.75}\n",
    " ]\n",
    " }\n",
    " }\n",
    "\n",
    "file = open(\"text.json\",'w')\n",
    "json.dump(data,file)\n",
    "file.close()\n",
    "\n"
   ]
  },
  {
   "cell_type": "code",
   "execution_count": 61,
   "metadata": {},
   "outputs": [
    {
     "name": "stdout",
     "output_type": "stream",
     "text": [
      "True\n"
     ]
    }
   ],
   "source": [
    "#11\n",
    "file = open(\"text.json\")\n",
    "print( json.load(file) == data)\n",
    "file.close()"
   ]
  },
  {
   "cell_type": "code",
   "execution_count": 62,
   "metadata": {},
   "outputs": [],
   "source": [
    "from datetime import datetime\n",
    "data['last_updated'] = str(datetime.now())\n",
    "file =open(\"text.json\",'w')\n",
    "json.dump(data,file)\n",
    "file.close()\n"
   ]
  },
  {
   "cell_type": "code",
   "execution_count": 63,
   "metadata": {},
   "outputs": [
    {
     "data": {
      "text/plain": [
       "{'company': {'name': 'TechCorp',\n",
       "  'employees': [{'id': 1,\n",
       "    'name': 'Alice',\n",
       "    'department': 'Development',\n",
       "    'skills': ['Python', 'Django', 'React'],\n",
       "    'salary': 75000},\n",
       "   {'id': 2,\n",
       "    'name': 'Bob',\n",
       "    'department': 'Development',\n",
       "    'skills': ['Java', 'Spring', 'Angular'],\n",
       "    'salary': 70000},\n",
       "   {'id': 3,\n",
       "    'name': 'Charlie',\n",
       "    'department': 'Marketing',\n",
       "    'skills': ['SEO', 'Content Writing'],\n",
       "    'salary': 60000},\n",
       "   {'id': 4,\n",
       "    'name': 'Peter',\n",
       "    'department': 'Marketing',\n",
       "    'skills': ['Python', 'Django', 'React', 'c#', 'Nextjs'],\n",
       "    'salary': 80000}],\n",
       "  'location': {'city': 'New York', 'country': 'USA'},\n",
       "  'products': [{'id': 'P1', 'name': 'ProductA', 'price': 120.5},\n",
       "   {'id': 'P2', 'name': 'ProductB', 'price': 80.75}]},\n",
       " 'last_updated': '2025-01-08 17:12:10.853887'}"
      ]
     },
     "execution_count": 63,
     "metadata": {},
     "output_type": "execute_result"
    }
   ],
   "source": [
    "data['company']['employees'].append({\n",
    "    'id': 4 ,\n",
    "    'name': 'Peter',\n",
    "    'department': 'Marketing',\n",
    "    'skills': ['Python', 'Django', 'React','c#','Nextjs'],\n",
    "    'salary': 80000})\n",
    "data"
   ]
  },
  {
   "cell_type": "code",
   "execution_count": 64,
   "metadata": {},
   "outputs": [],
   "source": [
    "\n",
    "data['last_updated'] =str(datetime.now())\n",
    "file =open(\"text.json\",'w')\n",
    "json.dump(data,file)\n",
    "file.close()\n"
   ]
  },
  {
   "cell_type": "code",
   "execution_count": 65,
   "metadata": {},
   "outputs": [],
   "source": [
    "file = open(\"text.json\")\n",
    "data = json.load(file)\n",
    "file.close()\n",
    "for employees in data['company']['employees']:\n",
    "    employees['salary'] *= 1.1\n",
    "\n",
    "file = open(\"text.json\",'w')\n",
    "data['last_updated'] = str(datetime.now())\n",
    "json.dump(data,file)\n",
    "\n",
    "file.close()"
   ]
  },
  {
   "cell_type": "code",
   "execution_count": 66,
   "metadata": {},
   "outputs": [],
   "source": [
    "file = open(\"text.json\")\n",
    "data = json.load(file)\n",
    "file.close()\n",
    "for employee in data['company']['employees']:\n",
    "    if ('Python' or 'python') not in employee['skills']:\n",
    "        employee['skills'].append(\"Python\")\n",
    "        \n",
    "file = open(\"text.json\",'w')\n",
    "data['last_updated'] = str(datetime.now())\n",
    "json.dump(data,file)\n",
    "file.close()"
   ]
  },
  {
   "cell_type": "code",
   "execution_count": 67,
   "metadata": {},
   "outputs": [
    {
     "data": {
      "text/plain": [
       "[1, 4, 9, 16, 25, 36, 49, 64, 81, 100]"
      ]
     },
     "execution_count": 67,
     "metadata": {},
     "output_type": "execute_result"
    }
   ],
   "source": [
    "#12\n",
    "my_list = [ i*i for i in range(1,11)]\n",
    "my_list"
   ]
  },
  {
   "cell_type": "code",
   "execution_count": 69,
   "metadata": {},
   "outputs": [
    {
     "name": "stdout",
     "output_type": "stream",
     "text": [
      "Even numbers are [2, 4, 6, 8, 10]\n"
     ]
    }
   ],
   "source": [
    "#13\n",
    "numbers = [1, 2, 3, 4, 5, 6,7, 8, 9, 10]\n",
    "even_numbers = [ i for i in numbers if i % 2 == 0]\n",
    "print(f\"Even numbers are {even_numbers}\")"
   ]
  },
  {
   "cell_type": "code",
   "execution_count": 70,
   "metadata": {},
   "outputs": [
    {
     "data": {
      "text/plain": [
       "{1: 1, 2: 8, 3: 27, 4: 64, 5: 125}"
      ]
     },
     "execution_count": 70,
     "metadata": {},
     "output_type": "execute_result"
    }
   ],
   "source": [
    "#14\n",
    "my_dict1 ={ i: i ** 3 for i in range(1,6)}\n",
    "my_dict1"
   ]
  },
  {
   "cell_type": "code",
   "execution_count": 75,
   "metadata": {},
   "outputs": [
    {
     "data": {
      "text/plain": [
       "{'a', 'e', 'i', 'o', 'u'}"
      ]
     },
     "execution_count": 75,
     "metadata": {},
     "output_type": "execute_result"
    }
   ],
   "source": [
    "#15\n",
    "sentence = \"comprehensions are powerful.\"\n",
    "vowel_string = {i for i in sentence if i in ['a','e','i','o','u']}\n",
    "vowel_string"
   ]
  },
  {
   "cell_type": "code",
   "execution_count": 79,
   "metadata": {},
   "outputs": [
    {
     "data": {
      "text/plain": [
       "{'Alice': 85, 'Charlie': 92}"
      ]
     },
     "execution_count": 79,
     "metadata": {},
     "output_type": "execute_result"
    }
   ],
   "source": [
    "#16\n",
    "students = {'Alice': 85, 'Bob': 78, 'Charlie': 92, 'David': 63}\n",
    "new_students = {key : value for key,value in students.items() if value > 80}\n",
    "new_students"
   ]
  },
  {
   "cell_type": "code",
   "execution_count": 61,
   "metadata": {},
   "outputs": [
    {
     "data": {
      "text/plain": [
       "[(1, 4), (2, 5), (3, 6)]"
      ]
     },
     "execution_count": 61,
     "metadata": {},
     "output_type": "execute_result"
    }
   ],
   "source": [
    "#17\n",
    "list1 = [1, 2, 3]\n",
    "list2 = [4, 5, 6]\n",
    "list(zip(list1,list2))\n"
   ]
  },
  {
   "cell_type": "code",
   "execution_count": null,
   "metadata": {},
   "outputs": [],
   "source": [
    "\n",
    "        "
   ]
  },
  {
   "cell_type": "code",
   "execution_count": null,
   "metadata": {},
   "outputs": [],
   "source": []
  },
  {
   "cell_type": "code",
   "execution_count": null,
   "metadata": {},
   "outputs": [],
   "source": []
  },
  {
   "cell_type": "code",
   "execution_count": null,
   "metadata": {},
   "outputs": [],
   "source": []
  },
  {
   "cell_type": "code",
   "execution_count": null,
   "metadata": {},
   "outputs": [],
   "source": []
  }
 ],
 "metadata": {
  "kernelspec": {
   "display_name": "Python 3",
   "language": "python",
   "name": "python3"
  },
  "language_info": {
   "codemirror_mode": {
    "name": "ipython",
    "version": 3
   },
   "file_extension": ".py",
   "mimetype": "text/x-python",
   "name": "python",
   "nbconvert_exporter": "python",
   "pygments_lexer": "ipython3",
   "version": "3.13.0"
  }
 },
 "nbformat": 4,
 "nbformat_minor": 2
}
